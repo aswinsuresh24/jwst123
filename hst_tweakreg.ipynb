{
 "cells": [
  {
   "cell_type": "code",
   "execution_count": 10,
   "id": "34eb0d80",
   "metadata": {},
   "outputs": [],
   "source": [
    "import warnings\n",
    "warnings.filterwarnings('ignore')\n",
    "import stwcs\n",
    "import glob\n",
    "import sys\n",
    "import os\n",
    "import shutil\n",
    "import time\n",
    "import filecmp\n",
    "import astroquery\n",
    "import progressbar\n",
    "import copy\n",
    "import requests\n",
    "import random\n",
    "import astropy.wcs as wcs\n",
    "import numpy as np\n",
    "from contextlib import contextmanager\n",
    "from astropy import units as u\n",
    "from astropy.utils.data import clear_download_cache,download_file\n",
    "from astropy.io import fits\n",
    "from astropy.table import Table, Column, unique\n",
    "from astropy.time import Time\n",
    "from astroscrappy import detect_cosmics\n",
    "from stwcs import updatewcs\n",
    "from scipy.interpolate import interp1d\n",
    "\n",
    "# Internal dependencies\n",
    "from common import Constants\n",
    "from common import Options\n",
    "from common import Settings\n",
    "from common import Util\n",
    "from nbutils import get_filter, get_instrument, get_chip, get_filter\n",
    "from nbutils import get_zpt, add_visit_info, organize_reduction_tables, pick_deepest_images\n",
    "\n",
    "@contextmanager\n",
    "def suppress_stdout():\n",
    "    with open(os.devnull, 'w') as devnull:\n",
    "        old_stdout = sys.stdout\n",
    "        old_stderr = sys.stderr\n",
    "        sys.stdout = devnull\n",
    "        sys.stderr = devnull\n",
    "        try:\n",
    "            yield\n",
    "        finally:\n",
    "            sys.stdout = old_stdout\n",
    "            sys.stderr = old_stderr\n",
    "\n",
    "with suppress_stdout():\n",
    "    from drizzlepac import tweakreg,astrodrizzle,catalogs,photeq\n",
    "    from astroquery.mast import Observations\n",
    "    from astropy.coordinates import SkyCoord"
   ]
  },
  {
   "cell_type": "code",
   "execution_count": 2,
   "id": "1dae6a64",
   "metadata": {},
   "outputs": [],
   "source": [
    "acceptable_filters = [\n",
    "    'F220W','F250W','F330W','F344N','F435W','F475W','F550M','F555W',\n",
    "    'F606W','F625W','F660N','F660N','F775W','F814W','F850LP','F892N',\n",
    "    'F098M','F105W','F110W','F125W','F126N','F127M','F128N','F130N','F132N',\n",
    "    'F139M','F140W','F153M','F160W','F164N','F167N','F200LP','F218W','F225W',\n",
    "    'F275W','F280N','F300X','F336W','F343N','F350LP','F373N','F390M','F390W',\n",
    "    'F395N','F410M','F438W','F467M','F469N','F475X','F487N','F547M',\n",
    "    'F600LP','F621M','F625W','F631N','F645N','F656N','F657N','F658N','F665N',\n",
    "    'F673N','F680N','F689M','F763M','F845M','F953N','F122M','F160BW','F185W',\n",
    "    'F218W','F255W','F300W','F375N','F380W','F390N','F437N','F439W','F450W',\n",
    "    'F569W','F588N','F622W','F631N','F673N','F675W','F702W','F785LP','F791W',\n",
    "    'F953N','F1042M']"
   ]
  },
  {
   "cell_type": "markdown",
   "id": "d5d95544",
   "metadata": {},
   "source": [
    "### Get obstable"
   ]
  },
  {
   "cell_type": "code",
   "execution_count": 3,
   "id": "9d8fba4a",
   "metadata": {},
   "outputs": [],
   "source": [
    "workdir = '.'\n",
    "input_images = [s for p in ['*flc.fits', '*flt.fits'] for s in glob.glob(os.path.join(workdir, p))]"
   ]
  },
  {
   "cell_type": "code",
   "execution_count": 6,
   "id": "a87087bf",
   "metadata": {},
   "outputs": [],
   "source": [
    "img = input_images\n",
    "zptype = 'abmag'\n",
    "good = []\n",
    "image_number = []\n",
    "#check if image exists (check in archive otherwise)\n",
    "for image in img:\n",
    "    success = True\n",
    "    if not os.path.exists(image):\n",
    "        success = False\n",
    "    if success:\n",
    "        good.append(image)\n",
    "img = copy.copy(good)\n",
    "\n",
    "hdu = fits.open(img[0])\n",
    "h = hdu[0].header\n",
    "\n",
    "exp = [fits.getval(image,'EXPTIME') for image in img] #exposure time\n",
    "if 'DATE-OBS' in h.keys() and 'TIME-OBS' in h.keys(): \n",
    "    dat = [fits.getval(image,'DATE-OBS') + 'T' +\n",
    "           fits.getval(image,'TIME-OBS') for image in img] #datetime\n",
    "elif 'EXPSTART' in h.keys():\n",
    "    dat = [Time(fits.getval(image, 'EXPSTART'),\n",
    "        format='mjd').datetime.strftime('%Y-%m-%dT%H:%M:%S') #datetime if DATE-OBS is missing\n",
    "        for image in img]\n",
    "    \n",
    "fil = [get_filter(image) for image in img]\n",
    "ins = [get_instrument(image) for image in img]\n",
    "det = ['_'.join(get_instrument(image).split('_')[:2]) for image in img]\n",
    "chip= [get_chip(image) for image in img]\n",
    "zpt = [get_zpt(i, ccdchip=c, zptype=zptype) for i,c in zip(img,chip)]\n",
    "\n",
    "if not image_number:\n",
    "    image_number = [0 for image in img]\n",
    "    \n",
    "obstable = Table([img,exp,dat,fil,ins,det,zpt,chip,image_number],\n",
    "    names=['image','exptime','datetime','filter','instrument',\n",
    "     'detector','zeropoint','chip','imagenumber'])\n",
    "obstable.sort('datetime')\n",
    "obstable = add_visit_info(obstable)"
   ]
  },
  {
   "cell_type": "code",
   "execution_count": 7,
   "id": "60c44863",
   "metadata": {},
   "outputs": [],
   "source": [
    "obstable.add_column(Column([' '*99]*len(obstable), name='drizname'))\n",
    "for i,row in enumerate(obstable):\n",
    "    visit = row['visit']\n",
    "    n = str(visit).zfill(4)\n",
    "    inst = row['instrument']\n",
    "    filt = row['filter']\n",
    "\n",
    "    # Visit should correspond to first image so they're all the same\n",
    "    visittable = obstable[obstable['visit']==visit]\n",
    "    refimage = visittable['image'][0]\n",
    "    if 'DATE-OBS' in h.keys():\n",
    "        date_obj = Time(fits.getval(refimage, 'DATE-OBS'))\n",
    "    else:\n",
    "        date_obj = Time(fits.getval(refimage, 'EXPSTART'), format='mjd')\n",
    "    date_str = date_obj.datetime.strftime('%y%m%d')\n",
    "\n",
    "    # Make a photpipe-like image name\n",
    "    drizname = ''\n",
    "    objname = None\n",
    "    if objname:\n",
    "        drizname = '{obj}.{inst}.{filt}.ut{date}_{n}.drz.fits'\n",
    "        drizname = drizname.format(inst=inst.split('_')[0],\n",
    "            filt=filt, n=n, date=date_str, obj=objname)\n",
    "    else:\n",
    "        drizname = '{inst}.{filt}.ut{date}_{n}.drz.fits'\n",
    "        drizname = drizname.format(inst=inst.split('_')[0],\n",
    "            filt=filt, n=n, date=date_str)\n",
    "\n",
    "    if '.':\n",
    "        drizname = os.path.join('.', drizname)\n",
    "\n",
    "    obstable[i]['drizname'] = drizname"
   ]
  },
  {
   "cell_type": "code",
   "execution_count": 18,
   "id": "651e739d",
   "metadata": {},
   "outputs": [],
   "source": [
    "obstable = obstable[:12]"
   ]
  },
  {
   "cell_type": "code",
   "execution_count": 19,
   "id": "7474f574",
   "metadata": {},
   "outputs": [
    {
     "data": {
      "text/html": [
       "<div><i>Table length=12</i>\n",
       "<table id=\"table132489654665952\" class=\"table-striped table-bordered table-condensed\">\n",
       "<thead><tr><th>image</th><th>exptime</th><th>datetime</th><th>filter</th><th>instrument</th><th>detector</th><th>zeropoint</th><th>chip</th><th>imagenumber</th><th>visit</th><th>drizname</th></tr></thead>\n",
       "<thead><tr><th>str20</th><th>float64</th><th>str19</th><th>str5</th><th>str12</th><th>str7</th><th>float64</th><th>int64</th><th>int64</th><th>int64</th><th>str99</th></tr></thead>\n",
       "<tr><td>./jbqz22siq_flc.fits</td><td>480.0</td><td>2012-01-04T08:08:04</td><td>f606w</td><td>acs_wfc_full</td><td>acs_wfc</td><td>26.491377676285538</td><td>1</td><td>0</td><td>1</td><td>./acs.f606w.ut120104_0001.drz.fits</td></tr>\n",
       "<tr><td>./jbqz22skq_flc.fits</td><td>480.0</td><td>2012-01-04T08:18:42</td><td>f606w</td><td>acs_wfc_full</td><td>acs_wfc</td><td>26.491377676285538</td><td>1</td><td>0</td><td>1</td><td>./acs.f606w.ut120104_0001.drz.fits</td></tr>\n",
       "<tr><td>./jbqz22smq_flc.fits</td><td>480.0</td><td>2012-01-04T08:29:20</td><td>f606w</td><td>acs_wfc_full</td><td>acs_wfc</td><td>26.491377676285538</td><td>1</td><td>0</td><td>1</td><td>./acs.f606w.ut120104_0001.drz.fits</td></tr>\n",
       "<tr><td>./jbqz22soq_flc.fits</td><td>480.0</td><td>2012-01-04T08:39:58</td><td>f606w</td><td>acs_wfc_full</td><td>acs_wfc</td><td>26.491377676285538</td><td>1</td><td>0</td><td>1</td><td>./acs.f606w.ut120104_0001.drz.fits</td></tr>\n",
       "<tr><td>./jbqz23tqq_flc.fits</td><td>480.0</td><td>2012-01-04T16:06:48</td><td>f606w</td><td>acs_wfc_full</td><td>acs_wfc</td><td>26.491377137444424</td><td>1</td><td>0</td><td>1</td><td>./acs.f606w.ut120104_0001.drz.fits</td></tr>\n",
       "<tr><td>./jbqz23trq_flc.fits</td><td>480.0</td><td>2012-01-04T16:17:26</td><td>f606w</td><td>acs_wfc_full</td><td>acs_wfc</td><td>26.491377137444424</td><td>1</td><td>0</td><td>1</td><td>./acs.f606w.ut120104_0001.drz.fits</td></tr>\n",
       "<tr><td>./jbqz23ttq_flc.fits</td><td>480.0</td><td>2012-01-04T16:28:04</td><td>f606w</td><td>acs_wfc_full</td><td>acs_wfc</td><td>26.491377137444424</td><td>1</td><td>0</td><td>1</td><td>./acs.f606w.ut120104_0001.drz.fits</td></tr>\n",
       "<tr><td>./jbqz23tvq_flc.fits</td><td>480.0</td><td>2012-01-04T16:38:42</td><td>f606w</td><td>acs_wfc_full</td><td>acs_wfc</td><td>26.491377054545822</td><td>1</td><td>0</td><td>1</td><td>./acs.f606w.ut120104_0001.drz.fits</td></tr>\n",
       "<tr><td>./jbqz24tyq_flc.fits</td><td>480.0</td><td>2012-01-04T18:08:11</td><td>f606w</td><td>acs_wfc_full</td><td>acs_wfc</td><td>26.491376957830788</td><td>1</td><td>0</td><td>1</td><td>./acs.f606w.ut120104_0001.drz.fits</td></tr>\n",
       "<tr><td>./jbqz24tzq_flc.fits</td><td>480.0</td><td>2012-01-04T18:18:49</td><td>f606w</td><td>acs_wfc_full</td><td>acs_wfc</td><td>26.491376957830788</td><td>1</td><td>0</td><td>1</td><td>./acs.f606w.ut120104_0001.drz.fits</td></tr>\n",
       "<tr><td>./jbqz24u1q_flc.fits</td><td>480.0</td><td>2012-01-04T19:40:23</td><td>f606w</td><td>acs_wfc_full</td><td>acs_wfc</td><td>26.491376874932193</td><td>1</td><td>0</td><td>1</td><td>./acs.f606w.ut120104_0001.drz.fits</td></tr>\n",
       "<tr><td>./jbqz24u3q_flc.fits</td><td>480.0</td><td>2012-01-04T19:51:01</td><td>f606w</td><td>acs_wfc_full</td><td>acs_wfc</td><td>26.491376874932193</td><td>1</td><td>0</td><td>1</td><td>./acs.f606w.ut120104_0001.drz.fits</td></tr>\n",
       "</table></div>"
      ],
      "text/plain": [
       "<Table length=12>\n",
       "       image         exptime ... visit              drizname             \n",
       "       str20         float64 ... int64               str99               \n",
       "-------------------- ------- ... ----- ----------------------------------\n",
       "./jbqz22siq_flc.fits   480.0 ...     1 ./acs.f606w.ut120104_0001.drz.fits\n",
       "./jbqz22skq_flc.fits   480.0 ...     1 ./acs.f606w.ut120104_0001.drz.fits\n",
       "./jbqz22smq_flc.fits   480.0 ...     1 ./acs.f606w.ut120104_0001.drz.fits\n",
       "./jbqz22soq_flc.fits   480.0 ...     1 ./acs.f606w.ut120104_0001.drz.fits\n",
       "./jbqz23tqq_flc.fits   480.0 ...     1 ./acs.f606w.ut120104_0001.drz.fits\n",
       "./jbqz23trq_flc.fits   480.0 ...     1 ./acs.f606w.ut120104_0001.drz.fits\n",
       "./jbqz23ttq_flc.fits   480.0 ...     1 ./acs.f606w.ut120104_0001.drz.fits\n",
       "./jbqz23tvq_flc.fits   480.0 ...     1 ./acs.f606w.ut120104_0001.drz.fits\n",
       "./jbqz24tyq_flc.fits   480.0 ...     1 ./acs.f606w.ut120104_0001.drz.fits\n",
       "./jbqz24tzq_flc.fits   480.0 ...     1 ./acs.f606w.ut120104_0001.drz.fits\n",
       "./jbqz24u1q_flc.fits   480.0 ...     1 ./acs.f606w.ut120104_0001.drz.fits\n",
       "./jbqz24u3q_flc.fits   480.0 ...     1 ./acs.f606w.ut120104_0001.drz.fits"
      ]
     },
     "execution_count": 19,
     "metadata": {},
     "output_type": "execute_result"
    }
   ],
   "source": [
    "obstable"
   ]
  },
  {
   "cell_type": "code",
   "execution_count": null,
   "id": "99eef9c0",
   "metadata": {},
   "outputs": [],
   "source": []
  }
 ],
 "metadata": {
  "kernelspec": {
   "display_name": "Python 3 (ipykernel)",
   "language": "python",
   "name": "python3"
  },
  "language_info": {
   "codemirror_mode": {
    "name": "ipython",
    "version": 3
   },
   "file_extension": ".py",
   "mimetype": "text/x-python",
   "name": "python",
   "nbconvert_exporter": "python",
   "pygments_lexer": "ipython3",
   "version": "3.10.14"
  }
 },
 "nbformat": 4,
 "nbformat_minor": 5
}
